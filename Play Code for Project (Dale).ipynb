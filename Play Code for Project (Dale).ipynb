{
 "cells": [
  {
   "cell_type": "code",
   "execution_count": 32,
   "metadata": {},
   "outputs": [],
   "source": [
    "import os # for working directory\n",
    "import numpy as np # for math\n",
    "import scipy as stats  # statistical methods\n",
    "import pandas as pd # for data frames\n",
    "import matplotlib.pyplot as plt  # for plotting\n",
    "import seaborn as sns\n",
    "from sklearn import preprocessing\n",
    "from sklearn.model_selection import train_test_split\n",
    "from sklearn import svm\n",
    "import glob\n",
    "\n",
    "os.chdir(\"C:/Users/Myoung-Goo/Documents/Energy/Python_Workflows\") # set working directory"
   ]
  },
  {
   "cell_type": "code",
   "execution_count": 33,
   "metadata": {},
   "outputs": [],
   "source": [
    "WP = pd.read_csv(\"well production.csv\") # reading file\n",
    "# sum oil production\n",
    "WP['Cumulative Oil Production (Year 1)'] = WP.iloc[:,4:16].sum(axis=1)\n",
    "# sum water production\n",
    "WP['Cumulative Water Production (Year 1)'] = WP.iloc[:,16:28].sum(axis=1)\n",
    "# delete unnecessary columns\n",
    "WP = WP.drop(columns=['oil 1', 'oil 2', 'oil 3', 'oil 4', 'oil 5', 'oil 6', 'oil 7', 'oil 8', 'oil 9', 'oil 10', 'oil 11', 'oil 12'])\n",
    "WP = WP.drop(columns=['water 1', 'water 2', 'water 3', 'water 4', 'water 5', 'water 6', 'water 7', 'water 8', 'water 9', 'water 10', 'water 11', 'water 12'])\n",
    "\n",
    "li = []\n",
    "FN = []\n",
    "TP = []\n",
    "MPR = []\n",
    "MPO = []\n",
    "MPE = []\n",
    "MP = []\n",
    "MPOi = []\n",
    "MT = []\n",
    "ME = []\n",
    "N = []\n",
    "WS =[]\n",
    "a = []\n",
    "\n",
    "# sort files by name\n",
    "WP = WP.sort_values('well name')\n",
    "# glob all the files\n",
    "csv_files = glob.glob('Well Data/*.csv')\n",
    "# prep values for every file\n",
    "for files in csv_files:\n",
    "    file = pd.read_csv(files)\n",
    "    li.append(file.easting.max()-file.easting.min())\n",
    "    FN.append(file['proppant weight (lbs)'].count())\n",
    "    TP.append(file['proppant weight (lbs)'].sum())\n",
    "    MP.append(file['proppant weight (lbs)'].mean())\n",
    "    MPR.append(file['pump rate (cubic feet/min)'].mean())\n",
    "    MPO.append(file['porosity'].mean())\n",
    "    MPE.append(file['permeability'].mean())\n",
    "    MPOi.append(file[\"Poisson's ratio\"].mean())\n",
    "    MT.append(file[\"thickness (ft)\"].mean())\n",
    "    N.append(file[\"northing\"].mean())\n",
    "    ME.append((file[\"easting\"].max()+file['easting'].min())/2)\n",
    "    WS.append(file['water saturation'].mean())\n",
    "    a.append(file)\n",
    "\n",
    "# add new columns\n",
    "WP['Well Length'] = li\n",
    "WP['Number of frac stages'] = FN\n",
    "WP['Total Proppant weight (lbs)'] = TP\n",
    "WP['Average Proppant weight (lbs) per stage'] = MP\n",
    "WP['Average pump rate (cubic feet/min)'] = MPR\n",
    "WP['Average Porosity'] = MPO\n",
    "WP['Average Permeability'] = MPE\n",
    "WP[\"Average Poisson's ratio\"] = MPOi\n",
    "WP['Average Thickness (ft)'] = MT\n",
    "WP['Northing'] = N\n",
    "WP['Middle Easting value'] = ME\n",
    "WP['Average Water Saturation'] = WS\n",
    "\n",
    "WP = WP.set_index('well name')\n",
    "WP.head()\n",
    "#WP.to_csv('cleaned well production.csv')"
   ]
  },
  {
   "cell_type": "code",
   "execution_count": null,
   "metadata": {},
   "outputs": [],
   "source": [
    "AM = 360\n",
    "AA = AM*640\n",
    "# formulas\n",
    "WP['Original Oil in Place'] = (7758*AA*WP['Average Thickness (ft)']*WP['Average Porosity']*(1-WP['Average Water Saturation']))/WP['formation volume factor']\n",
    "WP['Recoverable Reserves'] = WP['Original Oil in Place']*WP['recovery factor']"
   ]
  }
 ],
 "metadata": {
  "kernelspec": {
   "display_name": "Python 3",
   "language": "python",
   "name": "python3"
  },
  "language_info": {
   "codemirror_mode": {
    "name": "ipython",
    "version": 3
   },
   "file_extension": ".py",
   "mimetype": "text/x-python",
   "name": "python",
   "nbconvert_exporter": "python",
   "pygments_lexer": "ipython3",
   "version": "3.7.3"
  }
 },
 "nbformat": 4,
 "nbformat_minor": 2
}
