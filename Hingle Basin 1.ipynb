{
 "cells": [
  {
   "cell_type": "code",
   "execution_count": 11,
   "metadata": {},
   "outputs": [
    {
     "data": {
      "text/plain": [
       "<matplotlib.axes._subplots.AxesSubplot at 0x1bf9e5640f0>"
      ]
     },
     "execution_count": 11,
     "metadata": {},
     "output_type": "execute_result"
    },
    {
     "data": {
      "image/png": "[encoded data removed]",
      "text/plain": [
       "<Figure size 432x288 with 1 Axes>"
      ]
     },
     "metadata": {
      "needs_background": "light"
     },
     "output_type": "display_data"
    }
   ],
   "source": [
    "import os\n",
    "import pandas as pd\n",
    "import numpy as np\n",
    "import matplotlib.pyplot as plt\n",
    "import seaborn as sns\n",
    "import scipy as stats\n",
    "import glob\n",
    "from mpl_toolkits import mplot3d\n",
    "from sklearn import preprocessing\n",
    "from sklearn.model_selection import train_test_split\n",
    "from sklearn import svm\n",
    "from sklearn import metrics\n",
    "WP = pd.read_csv('well production.csv')\n",
    "x = np.linspace(1,12,12)\n",
    "WP['Cumulative Oil Production'] = WP.iloc[:,4:16].sum(axis=1)\n",
    "WP= WP.sort_values('well name')\n",
    "sns.distplot(WP['Cumulative Oil Production'], rug = True)\n"
   ]
  },
  {
   "cell_type": "code",
   "execution_count": null,
   "metadata": {},
   "outputs": [],
   "source": []
  },
  {
   "cell_type": "code",
   "execution_count": 182,
   "metadata": {},
   "outputs": [],
   "source": [
    "csv_files = glob.glob('Well Data/*.csv')\n",
    "Peak6 = pd.read_csv('Well Data/Peak 6-217H.csv')\n",
    "li = []\n",
    "FN = []\n",
    "TP = []\n",
    "MPR = []\n",
    "MPO = []\n",
    "MPE = []\n",
    "MP = []\n",
    "MPOi = []\n",
    "MT = []\n",
    "ME = []\n",
    "N = []\n",
    "for files in csv_files:\n",
    "    file = pd.read_csv(files)\n",
    "    li.append(file.easting.max()-file.easting.min())\n",
    "    FN.append(file['proppant weight (lbs)'].count())\n",
    "    TP.append(file['proppant weight (lbs)'].sum())\n",
    "    MP.append(file['proppant weight (lbs)'].mean())\n",
    "    MPR.append(file['pump rate (cubic feet/min)'].mean())\n",
    "    MPO.append(file['porosity'].mean())\n",
    "    MPE.append(file['permeability'].mean())\n",
    "    MPOi.append(file[\"Poisson's ratio\"].mean())\n",
    "    MT.append(file[\"thickness (ft)\"].mean())\n",
    "    N.append(file[\"northing\"].mean())\n",
    "    ME.append((file[\"easting\"].max()+file['easting'].min())/2)\n",
    "    \n",
    "WP['Well Length'] = li\n",
    "WP['Number of frac stages'] = FN\n",
    "WP['Total Proppant weight (lbs)'] = TP\n",
    "WP['Average Proppant weight (lbs) per stage'] = MP\n",
    "WP['Average pump rate (cubic feet/min)'] = MPR\n",
    "WP['Average Porosity'] = MPO\n",
    "WP['Average Permeability'] = MPE\n",
    "WP[\"Average Poisson's ratio\"] = MPOi\n",
    "WP['Average Thickness (ft)'] = MT\n",
    "WP['Northing'] = N\n",
    "WP['Middle Easting value'] = ME"
   ]
  },
  {
   "cell_type": "code",
   "execution_count": 181,
   "metadata": {},
   "outputs": [
    {
     "data": {
      "text/html": [
       "<div>\n",
       "<style scoped>\n",
       "    .dataframe tbody tr th:only-of-type {\n",
       "        vertical-align: middle;\n",
       "    }\n",
       "\n",
       "    .dataframe tbody tr th {\n",
       "        vertical-align: top;\n",
       "    }\n",
       "\n",
       "    .dataframe thead th {\n",
       "        text-align: right;\n",
       "    }\n",
       "</style>\n",
       "<table border=\"1\" class=\"dataframe\">\n",
       "  <thead>\n",
       "    <tr style=\"text-align: right;\">\n",
       "      <th></th>\n",
       "      <th>easting</th>\n",
       "      <th>northing</th>\n",
       "      <th>porosity</th>\n",
       "      <th>permeability</th>\n",
       "      <th>Poisson's ratio</th>\n",
       "      <th>Young's Modulus</th>\n",
       "      <th>water saturation</th>\n",
       "      <th>oil saturation</th>\n",
       "      <th>thickness (ft)</th>\n",
       "      <th>proppant weight (lbs)</th>\n",
       "      <th>pump rate (cubic feet/min)</th>\n",
       "    </tr>\n",
       "  </thead>\n",
       "  <tbody>\n",
       "    <tr>\n",
       "      <td>count</td>\n",
       "      <td>100.000000</td>\n",
       "      <td>100.0</td>\n",
       "      <td>100.000000</td>\n",
       "      <td>100.00000</td>\n",
       "      <td>100.000000</td>\n",
       "      <td>1.000000e+02</td>\n",
       "      <td>100.000000</td>\n",
       "      <td>100.000000</td>\n",
       "      <td>100.000000</td>\n",
       "      <td>1.000000e+02</td>\n",
       "      <td>100.000000</td>\n",
       "    </tr>\n",
       "    <tr>\n",
       "      <td>mean</td>\n",
       "      <td>81782.320000</td>\n",
       "      <td>1600.0</td>\n",
       "      <td>0.078500</td>\n",
       "      <td>0.02697</td>\n",
       "      <td>0.326620</td>\n",
       "      <td>6.277894e+06</td>\n",
       "      <td>0.081318</td>\n",
       "      <td>0.918682</td>\n",
       "      <td>27.492502</td>\n",
       "      <td>9.104229e+05</td>\n",
       "      <td>294.800448</td>\n",
       "    </tr>\n",
       "    <tr>\n",
       "      <td>std</td>\n",
       "      <td>2216.793798</td>\n",
       "      <td>0.0</td>\n",
       "      <td>0.013056</td>\n",
       "      <td>0.00999</td>\n",
       "      <td>0.003247</td>\n",
       "      <td>5.099620e+05</td>\n",
       "      <td>0.002052</td>\n",
       "      <td>0.002052</td>\n",
       "      <td>2.630183</td>\n",
       "      <td>4.516506e+05</td>\n",
       "      <td>51.187286</td>\n",
       "    </tr>\n",
       "    <tr>\n",
       "      <td>min</td>\n",
       "      <td>78000.000000</td>\n",
       "      <td>1600.0</td>\n",
       "      <td>0.040000</td>\n",
       "      <td>0.00700</td>\n",
       "      <td>0.321000</td>\n",
       "      <td>5.434035e+06</td>\n",
       "      <td>0.077797</td>\n",
       "      <td>0.914925</td>\n",
       "      <td>22.559422</td>\n",
       "      <td>1.862969e+04</td>\n",
       "      <td>179.223099</td>\n",
       "    </tr>\n",
       "    <tr>\n",
       "      <td>25%</td>\n",
       "      <td>79891.000000</td>\n",
       "      <td>1600.0</td>\n",
       "      <td>0.070000</td>\n",
       "      <td>0.01900</td>\n",
       "      <td>0.324000</td>\n",
       "      <td>5.832089e+06</td>\n",
       "      <td>0.079584</td>\n",
       "      <td>0.916989</td>\n",
       "      <td>25.279912</td>\n",
       "      <td>5.959234e+05</td>\n",
       "      <td>249.420366</td>\n",
       "    </tr>\n",
       "    <tr>\n",
       "      <td>50%</td>\n",
       "      <td>81782.500000</td>\n",
       "      <td>1600.0</td>\n",
       "      <td>0.080000</td>\n",
       "      <td>0.02600</td>\n",
       "      <td>0.327000</td>\n",
       "      <td>6.261940e+06</td>\n",
       "      <td>0.081276</td>\n",
       "      <td>0.918724</td>\n",
       "      <td>27.714355</td>\n",
       "      <td>8.342663e+05</td>\n",
       "      <td>296.918498</td>\n",
       "    </tr>\n",
       "    <tr>\n",
       "      <td>75%</td>\n",
       "      <td>83673.250000</td>\n",
       "      <td>1600.0</td>\n",
       "      <td>0.090000</td>\n",
       "      <td>0.03325</td>\n",
       "      <td>0.329000</td>\n",
       "      <td>6.721564e+06</td>\n",
       "      <td>0.083011</td>\n",
       "      <td>0.920416</td>\n",
       "      <td>29.845370</td>\n",
       "      <td>1.151494e+06</td>\n",
       "      <td>330.492695</td>\n",
       "    </tr>\n",
       "    <tr>\n",
       "      <td>max</td>\n",
       "      <td>85565.000000</td>\n",
       "      <td>1600.0</td>\n",
       "      <td>0.100000</td>\n",
       "      <td>0.05200</td>\n",
       "      <td>0.332000</td>\n",
       "      <td>7.162186e+06</td>\n",
       "      <td>0.085075</td>\n",
       "      <td>0.922203</td>\n",
       "      <td>31.432591</td>\n",
       "      <td>2.586512e+06</td>\n",
       "      <td>405.669215</td>\n",
       "    </tr>\n",
       "  </tbody>\n",
       "</table>\n",
       "</div>"
      ],
      "text/plain": [
       "            easting  northing    porosity  permeability  Poisson's ratio  \\\n",
       "count    100.000000     100.0  100.000000     100.00000       100.000000   \n",
       "mean   81782.320000    1600.0    0.078500       0.02697         0.326620   \n",
       "std     2216.793798       0.0    0.013056       0.00999         0.003247   \n",
       "min    78000.000000    1600.0    0.040000       0.00700         0.321000   \n",
       "25%    79891.000000    1600.0    0.070000       0.01900         0.324000   \n",
       "50%    81782.500000    1600.0    0.080000       0.02600         0.327000   \n",
       "75%    83673.250000    1600.0    0.090000       0.03325         0.329000   \n",
       "max    85565.000000    1600.0    0.100000       0.05200         0.332000   \n",
       "\n",
       "       Young's Modulus  water saturation  oil saturation  thickness (ft)  \\\n",
       "count     1.000000e+02        100.000000      100.000000      100.000000   \n",
       "mean      6.277894e+06          0.081318        0.918682       27.492502   \n",
       "std       5.099620e+05          0.002052        0.002052        2.630183   \n",
       "min       5.434035e+06          0.077797        0.914925       22.559422   \n",
       "25%       5.832089e+06          0.079584        0.916989       25.279912   \n",
       "50%       6.261940e+06          0.081276        0.918724       27.714355   \n",
       "75%       6.721564e+06          0.083011        0.920416       29.845370   \n",
       "max       7.162186e+06          0.085075        0.922203       31.432591   \n",
       "\n",
       "       proppant weight (lbs)  pump rate (cubic feet/min)  \n",
       "count           1.000000e+02                  100.000000  \n",
       "mean            9.104229e+05                  294.800448  \n",
       "std             4.516506e+05                   51.187286  \n",
       "min             1.862969e+04                  179.223099  \n",
       "25%             5.959234e+05                  249.420366  \n",
       "50%             8.342663e+05                  296.918498  \n",
       "75%             1.151494e+06                  330.492695  \n",
       "max             2.586512e+06                  405.669215  "
      ]
     },
     "execution_count": 181,
     "metadata": {},
     "output_type": "execute_result"
    }
   ],
   "source": [
    "Peak6.describe()\n",
    "#sns.distplot(Peak6[\"\"], rug = True)\n",
    "#Peak6.permeability.describe()\n",
    "#sns.distplot(Peak6.permeability, rug = True)"
   ]
  },
  {
   "cell_type": "code",
   "execution_count": 44,
   "metadata": {},
   "outputs": [
    {
     "data": {
      "text/plain": [
       "array(['Brisket 1-204H', 'Brisket 1-44H', 'Brisket 10-65H',\n",
       "       'Brisket 2-149H', 'Brisket 3-212H', 'Brisket 6-50H',\n",
       "       'Brisket 7-105H', 'Brisket 7-212H', 'Brisket 9-106H',\n",
       "       'Burger 10-170H', 'Burger 2-179H', 'Burger 3-45H', 'Burger 6-148H',\n",
       "       'Burger 6-59H', 'Dakota 10-199H', 'Dakota 13-166H',\n",
       "       'Federal 12-111H', 'Federal 12-25H', 'Federal 14-113H',\n",
       "       'Federal 3-123H', 'Federal 3-125H', 'Federal 7-130H',\n",
       "       'Federal 8-142H', 'Federal 8-166H', 'Federal 8-38H',\n",
       "       'Fennel 10-129H', 'Fennel 8-70H', 'Golden 1-209H',\n",
       "       'Golden 11-109H', 'Golden 14-27H', 'Golden 4-21H', 'Golden 5-19H',\n",
       "       'Golden 7-109H', 'Golden 8-162H', 'Golden 9-62H',\n",
       "       'Gunnison 12-38H', 'Gunnison 13-160H', 'Gunnison 4-93H',\n",
       "       'Gunnison 5-129H', 'Gunnison 7-24H', 'Gunnison 8-30H',\n",
       "       'Johnson 7-3H', 'King 10-202H', 'King 12-179H', 'King 13-150H',\n",
       "       'King 13-215H', 'King 13-28H', 'King 14-181H', 'King 14-184H',\n",
       "       'King 2-120H', 'King 5-15H', 'King 7-184H', 'King 7-188H',\n",
       "       'Laramie 14-76H', 'Laramie 9-10H', 'Peak 3-55H', 'Peak 6-217H',\n",
       "       'Peak 9-46H', 'Pepper 6-133H', 'Pepper 8-129H', 'Pikachu 13-133H',\n",
       "       'Pikachu 3-200H', 'Pole 10-155H', 'Pole 11-4H', 'Pole 14-200H',\n",
       "       'Pole 3-201H', 'Salt 12-135H', 'State 10-157H', 'State 11-28H',\n",
       "       'State 13-178H', 'State 13-31H', 'State 3-156H', 'State 3-95H',\n",
       "       'State 4-164H', 'State 4-189H', 'State 8-197H', 'Sugar 1-146H',\n",
       "       'Sundae 1-129H', 'Sundae 1-163H', 'Sundae 14-192H',\n",
       "       'Sundae 2-159H', 'Sundae 2-27H', 'Sundae 7-180H', 'Sundae 7-185H',\n",
       "       'Sundae 8-150H', 'Sundae 8-6H', 'Sutherland 1-11H',\n",
       "       'Sutherland 11-157H', 'Sutherland 5-56H', 'Sutherland 6-34H',\n",
       "       'Tarragon 10-11H', 'Tarragon 4-119H', 'Tribal 1-43H',\n",
       "       'Tribal 11-185H', 'Tribal 14-11H', 'Tribal 14-4H', 'Tribal 2-17H',\n",
       "       'Tribal 4-215H', 'Tribal 6-134H', 'Tribal 8-141H'], dtype=object)"
      ]
     },
     "execution_count": 44,
     "metadata": {},
     "output_type": "execute_result"
    }
   ],
   "source": [
    "WP['well name'].values"
   ]
  },
  {
   "cell_type": "code",
   "execution_count": 183,
   "metadata": {},
   "outputs": [
    {
     "data": {
      "text/html": [
       "<div>\n",
       "<style scoped>\n",
       "    .dataframe tbody tr th:only-of-type {\n",
       "        vertical-align: middle;\n",
       "    }\n",
       "\n",
       "    .dataframe tbody tr th {\n",
       "        vertical-align: top;\n",
       "    }\n",
       "\n",
       "    .dataframe thead th {\n",
       "        text-align: right;\n",
       "    }\n",
       "</style>\n",
       "<table border=\"1\" class=\"dataframe\">\n",
       "  <thead>\n",
       "    <tr style=\"text-align: right;\">\n",
       "      <th></th>\n",
       "      <th>well name</th>\n",
       "      <th>average pressure (Pa)</th>\n",
       "      <th>recovery factor</th>\n",
       "      <th>formation volume factor</th>\n",
       "      <th>oil 1</th>\n",
       "      <th>oil 2</th>\n",
       "      <th>oil 3</th>\n",
       "      <th>oil 4</th>\n",
       "      <th>oil 5</th>\n",
       "      <th>oil 6</th>\n",
       "      <th>...</th>\n",
       "      <th>Number of frac stages</th>\n",
       "      <th>Total Proppant weight (lbs)</th>\n",
       "      <th>Average pump rate (cubic feet/min)</th>\n",
       "      <th>Average Porosity</th>\n",
       "      <th>Average Permeability</th>\n",
       "      <th>Average Proppant weight (lbs) per stage</th>\n",
       "      <th>Average Poisson's ratio</th>\n",
       "      <th>Average Thickness (ft)</th>\n",
       "      <th>Northing</th>\n",
       "      <th>Middle Easting value</th>\n",
       "    </tr>\n",
       "  </thead>\n",
       "  <tbody>\n",
       "    <tr>\n",
       "      <td>98</td>\n",
       "      <td>Tribal 14-4H</td>\n",
       "      <td>36454201</td>\n",
       "      <td>0.102102</td>\n",
       "      <td>1.6</td>\n",
       "      <td>332.0</td>\n",
       "      <td>343.0</td>\n",
       "      <td>305.0</td>\n",
       "      <td>273.0</td>\n",
       "      <td>266.0</td>\n",
       "      <td>275.0</td>\n",
       "      <td>...</td>\n",
       "      <td>34</td>\n",
       "      <td>2.353841e+07</td>\n",
       "      <td>304.578816</td>\n",
       "      <td>0.0814</td>\n",
       "      <td>0.02966</td>\n",
       "      <td>692306.209005</td>\n",
       "      <td>0.31488</td>\n",
       "      <td>54.119562</td>\n",
       "      <td>12900.0</td>\n",
       "      <td>79389.5</td>\n",
       "    </tr>\n",
       "    <tr>\n",
       "      <td>43</td>\n",
       "      <td>Tribal 2-17H</td>\n",
       "      <td>36269180</td>\n",
       "      <td>0.107993</td>\n",
       "      <td>1.6</td>\n",
       "      <td>176.0</td>\n",
       "      <td>230.0</td>\n",
       "      <td>167.0</td>\n",
       "      <td>167.0</td>\n",
       "      <td>158.0</td>\n",
       "      <td>131.0</td>\n",
       "      <td>...</td>\n",
       "      <td>50</td>\n",
       "      <td>3.507593e+07</td>\n",
       "      <td>315.272511</td>\n",
       "      <td>0.0518</td>\n",
       "      <td>0.01107</td>\n",
       "      <td>701518.534064</td>\n",
       "      <td>0.33808</td>\n",
       "      <td>61.629917</td>\n",
       "      <td>18500.0</td>\n",
       "      <td>26993.0</td>\n",
       "    </tr>\n",
       "    <tr>\n",
       "      <td>70</td>\n",
       "      <td>Tribal 4-215H</td>\n",
       "      <td>34518701</td>\n",
       "      <td>0.102955</td>\n",
       "      <td>1.6</td>\n",
       "      <td>262.0</td>\n",
       "      <td>267.0</td>\n",
       "      <td>262.0</td>\n",
       "      <td>227.0</td>\n",
       "      <td>251.0</td>\n",
       "      <td>192.0</td>\n",
       "      <td>...</td>\n",
       "      <td>50</td>\n",
       "      <td>3.694735e+07</td>\n",
       "      <td>300.216433</td>\n",
       "      <td>0.0639</td>\n",
       "      <td>0.01792</td>\n",
       "      <td>738947.056410</td>\n",
       "      <td>0.30187</td>\n",
       "      <td>41.954475</td>\n",
       "      <td>36900.0</td>\n",
       "      <td>87154.5</td>\n",
       "    </tr>\n",
       "    <tr>\n",
       "      <td>75</td>\n",
       "      <td>Tribal 6-134H</td>\n",
       "      <td>35955602</td>\n",
       "      <td>0.085654</td>\n",
       "      <td>1.6</td>\n",
       "      <td>153.0</td>\n",
       "      <td>178.0</td>\n",
       "      <td>158.0</td>\n",
       "      <td>170.0</td>\n",
       "      <td>115.0</td>\n",
       "      <td>148.0</td>\n",
       "      <td>...</td>\n",
       "      <td>50</td>\n",
       "      <td>4.615338e+07</td>\n",
       "      <td>293.299566</td>\n",
       "      <td>0.0492</td>\n",
       "      <td>0.01048</td>\n",
       "      <td>923067.690420</td>\n",
       "      <td>0.34424</td>\n",
       "      <td>4.505779</td>\n",
       "      <td>5100.0</td>\n",
       "      <td>14240.0</td>\n",
       "    </tr>\n",
       "    <tr>\n",
       "      <td>92</td>\n",
       "      <td>Tribal 8-141H</td>\n",
       "      <td>45253022</td>\n",
       "      <td>0.100569</td>\n",
       "      <td>1.6</td>\n",
       "      <td>97.0</td>\n",
       "      <td>122.0</td>\n",
       "      <td>115.0</td>\n",
       "      <td>114.0</td>\n",
       "      <td>78.0</td>\n",
       "      <td>81.0</td>\n",
       "      <td>...</td>\n",
       "      <td>34</td>\n",
       "      <td>2.986000e+07</td>\n",
       "      <td>298.364963</td>\n",
       "      <td>0.0399</td>\n",
       "      <td>0.00673</td>\n",
       "      <td>878235.237880</td>\n",
       "      <td>0.30840</td>\n",
       "      <td>30.905207</td>\n",
       "      <td>72700.0</td>\n",
       "      <td>46411.5</td>\n",
       "    </tr>\n",
       "  </tbody>\n",
       "</table>\n",
       "<p>5 rows × 40 columns</p>\n",
       "</div>"
      ],
      "text/plain": [
       "        well name  average pressure (Pa)  recovery factor  \\\n",
       "98   Tribal 14-4H               36454201         0.102102   \n",
       "43   Tribal 2-17H               36269180         0.107993   \n",
       "70  Tribal 4-215H               34518701         0.102955   \n",
       "75  Tribal 6-134H               35955602         0.085654   \n",
       "92  Tribal 8-141H               45253022         0.100569   \n",
       "\n",
       "    formation volume factor  oil 1  oil 2  oil 3  oil 4  oil 5  oil 6  ...  \\\n",
       "98                      1.6  332.0  343.0  305.0  273.0  266.0  275.0  ...   \n",
       "43                      1.6  176.0  230.0  167.0  167.0  158.0  131.0  ...   \n",
       "70                      1.6  262.0  267.0  262.0  227.0  251.0  192.0  ...   \n",
       "75                      1.6  153.0  178.0  158.0  170.0  115.0  148.0  ...   \n",
       "92                      1.6   97.0  122.0  115.0  114.0   78.0   81.0  ...   \n",
       "\n",
       "    Number of frac stages  Total Proppant weight (lbs)  \\\n",
       "98                     34                 2.353841e+07   \n",
       "43                     50                 3.507593e+07   \n",
       "70                     50                 3.694735e+07   \n",
       "75                     50                 4.615338e+07   \n",
       "92                     34                 2.986000e+07   \n",
       "\n",
       "    Average pump rate (cubic feet/min)  Average Porosity  \\\n",
       "98                          304.578816            0.0814   \n",
       "43                          315.272511            0.0518   \n",
       "70                          300.216433            0.0639   \n",
       "75                          293.299566            0.0492   \n",
       "92                          298.364963            0.0399   \n",
       "\n",
       "    Average Permeability  Average Proppant weight (lbs) per stage  \\\n",
       "98               0.02966                            692306.209005   \n",
       "43               0.01107                            701518.534064   \n",
       "70               0.01792                            738947.056410   \n",
       "75               0.01048                            923067.690420   \n",
       "92               0.00673                            878235.237880   \n",
       "\n",
       "    Average Poisson's ratio  Average Thickness (ft)  Northing  \\\n",
       "98                  0.31488               54.119562   12900.0   \n",
       "43                  0.33808               61.629917   18500.0   \n",
       "70                  0.30187               41.954475   36900.0   \n",
       "75                  0.34424                4.505779    5100.0   \n",
       "92                  0.30840               30.905207   72700.0   \n",
       "\n",
       "    Middle Easting value  \n",
       "98               79389.5  \n",
       "43               26993.0  \n",
       "70               87154.5  \n",
       "75               14240.0  \n",
       "92               46411.5  \n",
       "\n",
       "[5 rows x 40 columns]"
      ]
     },
     "execution_count": 183,
     "metadata": {},
     "output_type": "execute_result"
    }
   ],
   "source": [
    "WP.tail()"
   ]
  },
  {
   "cell_type": "code",
   "execution_count": 150,
   "metadata": {},
   "outputs": [
    {
     "data": {
      "text/plain": [
       "<matplotlib.axes._subplots.AxesSubplot at 0x1bfa21accf8>"
      ]
     },
     "execution_count": 150,
     "metadata": {},
     "output_type": "execute_result"
    },
    {
     "data": {
      "image/png": "[encoded data removed]",
      "text/plain": [
       "<Figure size 432x288 with 1 Axes>"
      ]
     },
     "metadata": {
      "needs_background": "light"
     },
     "output_type": "display_data"
    }
   ],
   "source": [
    "\n",
    "sns.scatterplot(WP['Number of frac stages'], WP['Cumulative Oil Production'],hue=WP['Average Porosity'])\n"
   ]
  },
  {
   "cell_type": "code",
   "execution_count": 152,
   "metadata": {},
   "outputs": [
    {
     "data": {
      "text/plain": [
       "<matplotlib.axes._subplots.AxesSubplot at 0x1bfa2242e48>"
      ]
     },
     "execution_count": 152,
     "metadata": {},
     "output_type": "execute_result"
    },
    {
     "data": {
      "image/png": "[encoded data removed]",
      "text/plain": [
       "<Figure size 432x288 with 1 Axes>"
      ]
     },
     "metadata": {
      "needs_background": "light"
     },
     "output_type": "display_data"
    }
   ],
   "source": [
    "sns.scatterplot(WP['Total Proppant weight (lbs)'], WP['Cumulative Oil Production'], hue=WP['Average Porosity'])"
   ]
  },
  {
   "cell_type": "code",
   "execution_count": 143,
   "metadata": {},
   "outputs": [
    {
     "name": "stdout",
     "output_type": "stream",
     "text": [
      "Accuracy: 0.0\n"
     ]
    }
   ],
   "source": [
    "X = WP.drop('well name', axis =1)\n",
    "y = WP['Cumulative Oil Production']\n",
    "X_train, X_test, y_train, y_test = train_test_split(X, y, test_size=.1, random_state = 0)\n",
    "clf = svm.SVC(kernel='linear',gamma='auto')\n",
    "clf.fit(X_train, y_train)\n",
    "y_pred = clf.predict(X_test)\n",
    "print(\"Accuracy:\", metrics.accuracy_score(y_test,y_pred))"
   ]
  },
  {
   "cell_type": "code",
   "execution_count": 186,
   "metadata": {
    "scrolled": true
   },
   "outputs": [
    {
     "data": {
      "text/plain": [
       "<matplotlib.axes._subplots.AxesSubplot at 0x1bfa34a3438>"
      ]
     },
     "execution_count": 186,
     "metadata": {},
     "output_type": "execute_result"
    },
    {
     "data": {
      "image/png": "[encoded data removed]",
      "text/plain": [
       "<Figure size 432x288 with 1 Axes>"
      ]
     },
     "metadata": {
      "needs_background": "light"
     },
     "output_type": "display_data"
    }
   ],
   "source": [
    "sns.scatterplot(WP['Middle Easting value'], WP['Northing'], hue = WP['Average Porosity'])"
   ]
  }
 ],
 "metadata": {
  "kernelspec": {
   "display_name": "Python 3",
   "language": "python",
   "name": "python3"
  },
  "language_info": {
   "codemirror_mode": {
    "name": "ipython",
    "version": 3
   },
   "file_extension": ".py",
   "mimetype": "text/x-python",
   "name": "python",
   "nbconvert_exporter": "python",
   "pygments_lexer": "ipython3",
   "version": "3.6.7"
  }
 },
 "nbformat": 4,
 "nbformat_minor": 2
}
